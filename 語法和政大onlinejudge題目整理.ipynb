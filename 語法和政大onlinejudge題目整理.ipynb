{
  "nbformat": 4,
  "nbformat_minor": 0,
  "metadata": {
    "colab": {
      "provenance": [],
      "toc_visible": true,
      "authorship_tag": "ABX9TyOyqCJ53QDqoXA/IIC5LVYO",
      "include_colab_link": true
    },
    "kernelspec": {
      "name": "python3",
      "display_name": "Python 3"
    },
    "language_info": {
      "name": "python"
    }
  },
  "cells": [
    {
      "cell_type": "markdown",
      "metadata": {
        "id": "view-in-github",
        "colab_type": "text"
      },
      "source": [
        "<a href=\"https://colab.research.google.com/github/Griffth-PuellaMagi/113CPPY/blob/main/%E8%AA%9E%E6%B3%95%E5%92%8C%E6%94%BF%E5%A4%A7onlinejudge%E9%A1%8C%E7%9B%AE%E6%95%B4%E7%90%86.ipynb\" target=\"_parent\"><img src=\"https://colab.research.google.com/assets/colab-badge.svg\" alt=\"Open In Colab\"/></a>"
      ]
    },
    {
      "cell_type": "markdown",
      "source": [
        "# 語法複習"
      ],
      "metadata": {
        "id": "MENDt46cOl8b"
      }
    },
    {
      "cell_type": "markdown",
      "source": [
        "## 函式(function)"
      ],
      "metadata": {
        "id": "r7eNBcNOxwFm"
      }
    },
    {
      "cell_type": "code",
      "source": [
        "# 無回傳值，函式內部沒有 return，所以它的預設回傳值是 None\n",
        "# result 只是區域變數，沒有回傳\n",
        "def add(n1, n2):\n",
        "    result = n1 + n2\n",
        "    # return result\n",
        "\n",
        "value = add(3, 4)\n",
        "print(value)"
      ],
      "metadata": {
        "colab": {
          "base_uri": "https://localhost:8080/"
        },
        "id": "lKMr4wmCx6NX",
        "outputId": "f5ba2f83-3c59-453a-c074-276835030cfa"
      },
      "execution_count": null,
      "outputs": [
        {
          "output_type": "stream",
          "name": "stdout",
          "text": [
            "None\n"
          ]
        }
      ]
    },
    {
      "cell_type": "code",
      "source": [
        "# 無回傳值\n",
        "def greet(name):\n",
        "    print(f\"Hello, {name}!\")  # 只印出訊息，沒有回傳值\n",
        "\n",
        "greet(\"Alice\")"
      ],
      "metadata": {
        "colab": {
          "base_uri": "https://localhost:8080/"
        },
        "id": "a6T5jzrdyKl4",
        "outputId": "dc04c502-2d4f-41ee-8021-0d8fa062a30f"
      },
      "execution_count": null,
      "outputs": [
        {
          "output_type": "stream",
          "name": "stdout",
          "text": [
            "Hello, Alice!\n"
          ]
        }
      ]
    },
    {
      "cell_type": "code",
      "source": [
        "# 無回傳值，若給變數賦值，則會出現none，函數若沒有 return，則預設回傳 None\n",
        "def greet(name):\n",
        "    print(f\"Hello, {name}!\")  # 只印出訊息，沒有回傳值\n",
        "\n",
        "result = greet(\"Alice\")\n",
        "print(result)\n"
      ],
      "metadata": {
        "colab": {
          "base_uri": "https://localhost:8080/"
        },
        "id": "anb_0_udyMz_",
        "outputId": "2d5dcd8d-df01-45db-f38f-f40dacee0980"
      },
      "execution_count": null,
      "outputs": [
        {
          "output_type": "stream",
          "name": "stdout",
          "text": [
            "Hello, Alice!\n",
            "None\n"
          ]
        }
      ]
    },
    {
      "cell_type": "code",
      "source": [
        "# 有回傳值，但print() 本身的回傳值是 None\n",
        "def greet(name):\n",
        "    return print(f\"Hello, {name}!\")  # 先印出訊息，但 return None\n",
        "\n",
        "\n",
        "result = greet(\"Alice\")\n",
        "print(result)"
      ],
      "metadata": {
        "colab": {
          "base_uri": "https://localhost:8080/"
        },
        "id": "MuVFINmuyOk3",
        "outputId": "147f09f1-b96d-4256-a4b1-424f0774c496"
      },
      "execution_count": null,
      "outputs": [
        {
          "output_type": "stream",
          "name": "stdout",
          "text": [
            "Hello, Alice!\n",
            "None\n"
          ]
        }
      ]
    },
    {
      "cell_type": "code",
      "source": [
        "# 有回傳值\n",
        "def greet(name):\n",
        "    return f\"Hello, {name}!\"  # 回傳字串訊息\n",
        "\n",
        "result = greet(\"Alice\")\n",
        "print(result)"
      ],
      "metadata": {
        "colab": {
          "base_uri": "https://localhost:8080/"
        },
        "id": "lbyFwLleyScA",
        "outputId": "9bf44506-2caa-4447-fa0c-6c16940af3a2"
      },
      "execution_count": null,
      "outputs": [
        {
          "output_type": "stream",
          "name": "stdout",
          "text": [
            "Hello, Alice!\n"
          ]
        }
      ]
    },
    {
      "cell_type": "markdown",
      "source": [
        "## 回呼函式(callback function)\n",
        "* 指能藉由參數(argument)通往另一個函式的函式。它會在外部函式內調用"
      ],
      "metadata": {
        "id": "lbsrzqdMx2tU"
      }
    },
    {
      "cell_type": "code",
      "source": [
        "# https://www.youtube.com/watch?v=iUrUf5ijiWs&t=326s\n",
        "def test(arg):\n",
        "    arg()  # 直接執行傳入的函式\n",
        "\n",
        "def handle():\n",
        "    print(100)\n",
        "\n",
        "test(handle)  # 不是 呼叫 handle()，而是將函式 handle 作為參數傳遞給 test"
      ],
      "metadata": {
        "colab": {
          "base_uri": "https://localhost:8080/"
        },
        "id": "aN0O1_LkjEr6",
        "outputId": "dc2a736c-d967-4d19-adf2-41b793b1cc56"
      },
      "execution_count": null,
      "outputs": [
        {
          "output_type": "stream",
          "name": "stdout",
          "text": [
            "100\n"
          ]
        }
      ]
    },
    {
      "cell_type": "code",
      "source": [
        "def test(arg):\n",
        "    print(arg) #print(arg) 只是印出這個函式的記憶體位址，而不會執行 handle\n",
        "\n",
        "# 建立另一個函式 handle\n",
        "def handle():\n",
        "    print(100)\n",
        "\n",
        "\n",
        "test(handle) # handle是回呼函式"
      ],
      "metadata": {
        "colab": {
          "base_uri": "https://localhost:8080/"
        },
        "id": "fHyqS4MIj9pO",
        "outputId": "ab8b342b-7097-47c5-b063-2b232a1a627a"
      },
      "execution_count": null,
      "outputs": [
        {
          "output_type": "stream",
          "name": "stdout",
          "text": [
            "<function handle at 0x7e3e046b68e0>\n"
          ]
        }
      ]
    },
    {
      "cell_type": "markdown",
      "source": [
        "## zip function\n",
        "* zip函數會把可迭代物件們打包並傳回tuple\n",
        "* 若可迭代物件a和b的基數不相等，則迭代次數為較小的物件的基數"
      ],
      "metadata": {
        "id": "SyrJtwE_nB2p"
      }
    },
    {
      "cell_type": "code",
      "source": [
        "age = [17, 23, 45]\n",
        "name =[\"john\", \"sora\", \"jack\"]\n",
        "\n",
        "total = zip(name, age)\n",
        "print(total)\n",
        "print(list(total))\n",
        "\n",
        "for n,a in zip(name, age):\n",
        "    print(f\"name: {n}, age: {a}\")\n",
        "\n",
        "print(\"\")\n",
        "\n",
        "for i in zip(name, age):\n",
        "    print(i)"
      ],
      "metadata": {
        "colab": {
          "base_uri": "https://localhost:8080/"
        },
        "id": "qqUcnqFzOslP",
        "outputId": "11d3c35d-214f-4ebc-a029-6ce0bb9c2b99"
      },
      "execution_count": null,
      "outputs": [
        {
          "output_type": "stream",
          "name": "stdout",
          "text": [
            "<zip object at 0x7b5e4d5c0c80>\n",
            "[('john', 17), ('sora', 23), ('jack', 45)]\n",
            "name: john, age: 17\n",
            "name: sora, age: 23\n",
            "name: jack, age: 45\n",
            "\n",
            "('john', 17)\n",
            "('sora', 23)\n",
            "('jack', 45)\n"
          ]
        }
      ]
    },
    {
      "cell_type": "markdown",
      "source": [
        "## map function\n",
        "* map({function}, {iterable object})\n",
        "* map主要用來對可迭代物件中的每個元素套用指定函數"
      ],
      "metadata": {
        "id": "mUK88zUorWnC"
      }
    },
    {
      "cell_type": "code",
      "source": [
        "# 例如:我要把所有姓名轉成大寫並且用list打印出來\n",
        "age = [17, 23, 45]\n",
        "name =[\"john\", \"sora\", \"jack\"]\n",
        "\n",
        "# 方法一:簡單但麻煩的方法\n",
        "upper_name = []\n",
        "for i in name:\n",
        "    I = i.upper()\n",
        "    upper_name.append(I)\n",
        "print(upper_name)\n",
        "\n",
        "\n",
        "#方法二:map function法\n",
        "# str.upper()（帶括號）會立即執行，這是不對的；\n",
        "# 應該傳遞方法的引用 str.upper，這樣 map 會在迭代 name 時，逐個對元素執行 upper() 方法\n",
        "upp = map(str.upper, name)\n",
        "print(upp)\n",
        "print(list(upp))"
      ],
      "metadata": {
        "colab": {
          "base_uri": "https://localhost:8080/"
        },
        "id": "wsOErIYVs5j0",
        "outputId": "8d2a0408-f5b7-4cc9-d99d-1854e5aba9a8"
      },
      "execution_count": null,
      "outputs": [
        {
          "output_type": "stream",
          "name": "stdout",
          "text": [
            "['JOHN', 'SORA', 'JACK']\n",
            "<map object at 0x7b5e4d682b60>\n",
            "['JOHN', 'SORA', 'JACK']\n"
          ]
        }
      ]
    },
    {
      "cell_type": "code",
      "source": [
        "# 例子:將數字轉成字串\n",
        "# 方法一:map函數結合lambda函式\n",
        "numbers = [1, 2, 3, 4, 5]\n",
        "string_numbers = list(map(lambda x: str(x), numbers))\n",
        "print(string_numbers)\n",
        "\n",
        "#方法二:list comprehension\n",
        "string_numbers = [str(x) for x in numbers]\n",
        "print(string_numbers)\n"
      ],
      "metadata": {
        "colab": {
          "base_uri": "https://localhost:8080/"
        },
        "id": "8g2PdT9vOdjc",
        "outputId": "79730df2-da0c-4c54-c074-25da42670ec2"
      },
      "execution_count": null,
      "outputs": [
        {
          "output_type": "stream",
          "name": "stdout",
          "text": [
            "['1', '2', '3', '4', '5']\n",
            "['1', '2', '3', '4', '5']\n"
          ]
        }
      ]
    },
    {
      "cell_type": "code",
      "source": [
        "# 例子:處理字串(變成大寫)\n",
        "# 方法一:map函數結合lambda函式\n",
        "words = [\"hello\", \"world\", \"python\"]\n",
        "upper_words = list(map(lambda x: x.upper(), words))\n",
        "print(upper_words)\n",
        "\n",
        "#方法二:list comprehension\n",
        "upper_words = [word.upper() for word in words]\n",
        "print(upper_words)\n"
      ],
      "metadata": {
        "colab": {
          "base_uri": "https://localhost:8080/"
        },
        "id": "DyvRN4v6PDw8",
        "outputId": "231098fb-9b8c-4d9a-bdfc-03121bb885e4"
      },
      "execution_count": null,
      "outputs": [
        {
          "output_type": "stream",
          "name": "stdout",
          "text": [
            "['HELLO', 'WORLD', 'PYTHON']\n",
            "['HELLO', 'WORLD', 'PYTHON']\n"
          ]
        }
      ]
    },
    {
      "cell_type": "markdown",
      "source": [
        "## lambda匿名函數\n",
        "* lambda匿名函數用於定義無名稱的小型函數\n",
        "* lambda匿名函數常用於需要簡單操作、一次性使用的場合"
      ],
      "metadata": {
        "id": "2sjuSIRjyFnF"
      }
    },
    {
      "cell_type": "code",
      "source": [
        "# 例如:我要把年齡加一後用list打印出來\n",
        "age = [17, 23, 45]\n",
        "name =[\"john\", \"sora\", \"jack\"]\n",
        "\n",
        "\n",
        "def func(n):\n",
        "    return n+1\n",
        "upp = map(func, age)\n",
        "print(upp)\n",
        "print(list(upp))\n",
        "\n",
        "upp = map(lambda n:n+1, age)\n",
        "print(upp)\n",
        "print(list(upp))"
      ],
      "metadata": {
        "colab": {
          "base_uri": "https://localhost:8080/"
        },
        "id": "UUiiCrwVwP0t",
        "outputId": "faeb4d16-f6f8-4d6c-fe5d-b5b8e7b930ad"
      },
      "execution_count": null,
      "outputs": [
        {
          "output_type": "stream",
          "name": "stdout",
          "text": [
            "<map object at 0x7b5e4d681ba0>\n",
            "[18, 24, 46]\n",
            "<map object at 0x7b5e4d6824a0>\n",
            "[18, 24, 46]\n"
          ]
        }
      ]
    },
    {
      "cell_type": "code",
      "source": [
        "# https://www.youtube.com/watch?v=AToQgdOQV2c&t=4s\n",
        "# 方法一:簡單麻煩的方法，有參數時\n",
        "def test1(n1,n2):\n",
        "    return n1+n2\n",
        "\n",
        "result1 = test1(3,4)\n",
        "print(result1)\n",
        "\n",
        "\n",
        "# 方法二:lambda函數\n",
        "test2 = lambda n1,n2: n1+n2\n",
        "result2 = test2(3,4)\n",
        "print(result2)\n",
        "\n",
        "\n",
        "# 方法一:簡單麻煩的方法，無參數時\n",
        "def test3():\n",
        "    return 5*2\n",
        "result3 = test3()\n",
        "print(result3)\n",
        "\n",
        "\n",
        "# 方法二:lambda函數\n",
        "test4 = lambda : 5*2\n",
        "result4 = test4()\n",
        "print(result4)"
      ],
      "metadata": {
        "colab": {
          "base_uri": "https://localhost:8080/"
        },
        "id": "qVk-eavArGF_",
        "outputId": "5f7223d0-bf2f-47aa-fb1e-dec952c71f8b"
      },
      "execution_count": null,
      "outputs": [
        {
          "output_type": "stream",
          "name": "stdout",
          "text": [
            "7\n",
            "7\n",
            "10\n",
            "10\n"
          ]
        }
      ]
    },
    {
      "cell_type": "code",
      "source": [
        "# https://www.youtube.com/watch?v=AToQgdOQV2c&t=4s\n",
        "# Argument（引數） 是實際傳遞給函數的數值\n",
        "# Parameter（參數） 是函數定義中用來接收引數的變數\n",
        "def test1(*args): # *代表可變長度參數，會把所有傳入的值打包成元組\n",
        "    return max(args) * 2\n",
        "\n",
        "# 以下匿名函式與上述函式等義\n",
        "test2 = lambda *args: max(args) * 2\n",
        "\n",
        "# 呼叫函式\n",
        "result1 = test1(1, 5, -2)\n",
        "result2 = test2(-1, -10, 0, -2)\n",
        "print(result1)\n",
        "print(result2)"
      ],
      "metadata": {
        "colab": {
          "base_uri": "https://localhost:8080/"
        },
        "id": "9LrqRmeQx6hj",
        "outputId": "74fdc548-287b-4c9d-8884-5bfc8cbd4ef2"
      },
      "execution_count": null,
      "outputs": [
        {
          "output_type": "stream",
          "name": "stdout",
          "text": [
            "10\n",
            "0\n"
          ]
        }
      ]
    },
    {
      "cell_type": "markdown",
      "source": [
        "## filter function\n",
        "* filter(function, iterable)\n",
        "* function是一個回傳布林值 (True 或 False) 的函式"
      ],
      "metadata": {
        "id": "WIz_eQQLHh4Q"
      }
    },
    {
      "cell_type": "code",
      "source": [
        "# 例子:判斷10以內的偶數函式\n",
        "numbers = [1, 2, 3, 4, 5, 6, 7, 8, 9, 10]\n",
        "\n",
        "\n",
        "# 方法一:簡單麻煩的方法\n",
        "def is_even(n):\n",
        "    return n % 2 == 0\n",
        "\n",
        "result1 = filter(is_even, numbers)\n",
        "print(list(result1))\n",
        "\n",
        "# 方法二:lambda函式與filter函式結合使用\n",
        "result2 = filter(lambda x: x% 2 ==0, numbers)\n",
        "print(list(result2))"
      ],
      "metadata": {
        "colab": {
          "base_uri": "https://localhost:8080/"
        },
        "id": "UHlITJNtHx3o",
        "outputId": "20120cc7-c757-4a5d-d8e8-0d5cb97eebe4"
      },
      "execution_count": null,
      "outputs": [
        {
          "output_type": "stream",
          "name": "stdout",
          "text": [
            "[2, 4, 6, 8, 10]\n",
            "[2, 4, 6, 8, 10]\n"
          ]
        }
      ]
    },
    {
      "cell_type": "code",
      "source": [
        "# 例子:過濾出非空字串\n",
        "words = [\"hello\", \"\", \"world\", \" \", \"Python\", \"  \"]\n",
        "\n",
        "# 方法一:用lamda函式結合filter函式\n",
        "# 過濾掉空字串和僅含空格的字串\n",
        "result = filter(lambda x: x.strip() != \"\", words)\n",
        "print(list(result))\n",
        "\n",
        "\n",
        "# 方法二:用list comprehension\n",
        "# 列表生成式通常能取代掉lamda函式結合filter函式，而且可讀性更高\n",
        "filtered_words = [x for x in words if x.strip() != \"\"]\n",
        "print(filtered_words)"
      ],
      "metadata": {
        "colab": {
          "base_uri": "https://localhost:8080/"
        },
        "id": "I07xKss_I9jH",
        "outputId": "c7624361-650e-4e8b-aae1-6bcd892a4fae"
      },
      "execution_count": null,
      "outputs": [
        {
          "output_type": "stream",
          "name": "stdout",
          "text": [
            "['hello', 'world', 'Python']\n",
            "['hello', 'world', 'Python']\n"
          ]
        }
      ]
    },
    {
      "cell_type": "markdown",
      "source": [
        "## list comprehension\n",
        "* 格式一:new_list = [ expression for 變數 in 可迭代物件 條件 ]\n",
        "* 格式二:new_list = [值 if 條件 else 其他值 for 變數 in 可迭代物件]"
      ],
      "metadata": {
        "id": "4Ss1x9roQ1JI"
      }
    },
    {
      "cell_type": "code",
      "source": [
        "evens = [x for x in range(10) if x % 2 == 0]\n",
        "print(evens)"
      ],
      "metadata": {
        "colab": {
          "base_uri": "https://localhost:8080/"
        },
        "id": "W6mPthxWRLUb",
        "outputId": "7d22f92d-d290-4380-986f-221956d522bc"
      },
      "execution_count": null,
      "outputs": [
        {
          "output_type": "stream",
          "name": "stdout",
          "text": [
            "[0, 2, 4, 6, 8]\n"
          ]
        }
      ]
    },
    {
      "cell_type": "code",
      "source": [
        "labels = [\"even\" if x % 2 == 0 else \"odd\" for x in range(5)]\n",
        "print(labels)"
      ],
      "metadata": {
        "colab": {
          "base_uri": "https://localhost:8080/"
        },
        "id": "lah3zEdeRa1n",
        "outputId": "dfbfaac1-287d-4768-870f-8b9dd0432d2a"
      },
      "execution_count": null,
      "outputs": [
        {
          "output_type": "stream",
          "name": "stdout",
          "text": [
            "['even', 'odd', 'even', 'odd', 'even']\n"
          ]
        }
      ]
    },
    {
      "cell_type": "code",
      "source": [
        "# 例子:負數轉正數\n",
        "numbers = [-3, -2, -1, 0, 1, 2, 3]\n",
        "new_numbers = [x if x > 0 else -x for x in numbers]\n",
        "print(new_numbers)"
      ],
      "metadata": {
        "colab": {
          "base_uri": "https://localhost:8080/"
        },
        "id": "0mu4R2oQX4K0",
        "outputId": "31b6502f-3fbb-4c3a-a2c0-5c7bd197a575"
      },
      "execution_count": null,
      "outputs": [
        {
          "output_type": "stream",
          "name": "stdout",
          "text": [
            "[3, 2, 1, 0, 1, 2, 3]\n"
          ]
        }
      ]
    },
    {
      "cell_type": "code",
      "source": [
        "# 例子:替換數值\n",
        "scores = [85, 40, 90, 30, 75]\n",
        "grades = [\"Pass\" if x >= 50 else \"Fail\" for x in scores]\n",
        "print(grades)"
      ],
      "metadata": {
        "colab": {
          "base_uri": "https://localhost:8080/"
        },
        "id": "Qhc5NUBeYH3j",
        "outputId": "99331825-2b7e-4773-83f5-295c59bcc221"
      },
      "execution_count": null,
      "outputs": [
        {
          "output_type": "stream",
          "name": "stdout",
          "text": [
            "['Pass', 'Fail', 'Pass', 'Fail', 'Pass']\n"
          ]
        }
      ]
    },
    {
      "cell_type": "code",
      "source": [
        "# 例子:字串轉換（大小寫切換）\n",
        "words = [\"hello\", \"WORLD\", \"PyThOn\"]\n",
        "new_words = [word.upper() if word.islower() else word.lower() for word in words]\n",
        "print(new_words)"
      ],
      "metadata": {
        "colab": {
          "base_uri": "https://localhost:8080/"
        },
        "id": "yQF5Kz0IYWs8",
        "outputId": "b2a78589-588b-4b21-84e8-79fa4b0947ab"
      },
      "execution_count": null,
      "outputs": [
        {
          "output_type": "stream",
          "name": "stdout",
          "text": [
            "['HELLO', 'world', 'python']\n"
          ]
        }
      ]
    },
    {
      "cell_type": "code",
      "source": [
        "# 依照長度分類字串\n",
        "words = [\"apple\", \"kiwi\", \"banana\", \"grape\"]\n",
        "categories = [\"Long\" if len(word) > 5 else \"Short\" for word in words]\n",
        "print(categories)"
      ],
      "metadata": {
        "colab": {
          "base_uri": "https://localhost:8080/"
        },
        "id": "lZF5b0NxaGPV",
        "outputId": "2bc88817-0bc8-4c0f-b529-2f4671866687"
      },
      "execution_count": null,
      "outputs": [
        {
          "output_type": "stream",
          "name": "stdout",
          "text": [
            "['Short', 'Short', 'Long', 'Short']\n"
          ]
        }
      ]
    },
    {
      "cell_type": "code",
      "source": [
        "# 例子:創建二維矩陣\n",
        "# 方法一:簡單麻煩\n",
        "matrix = []\n",
        "for i in range(1, 4):\n",
        "    row = []\n",
        "    for j in range(1, 4):\n",
        "        row.append(i * j)\n",
        "    matrix.append(row)\n",
        "\n",
        "print(matrix)\n",
        "\n",
        "\n",
        "# 方法二:用巢狀列表生成式\n",
        "matrix = [[i * j for j in range(1, 4)] for i in range(1, 4)]\n",
        "print(matrix)\n",
        "\n",
        "\n",
        "print(\"\")\n",
        "\n",
        "print(\"matrix 是 一個包含 3 個列表的列表\")\n",
        "print(\"不是 1×3 也不是 3×1，而是 3×3\")\n",
        "rows = len(matrix)  # 計算行數\n",
        "cols = len(matrix[0])  # 計算列數（假設所有行長度相同）\n",
        "print(f\"matrix 是 {rows} × {cols} 的矩陣\")\n",
        "\n",
        "print(\"\")\n",
        "\n",
        "\n",
        "# 例子:將 matrix（二維列表）展平為一個一維列表\n",
        "# 方法一:簡單麻煩\n",
        "flatten = []\n",
        "for row in matrix:  # 逐行取出\n",
        "    for num in row:  # 逐個數字取出\n",
        "        flatten.append(num)\n",
        "\n",
        "print(flatten)\n",
        "\n",
        "\n",
        "# 方法二:用巢狀列表生成式\n",
        "flatten = [num for row in matrix for num in row]\n",
        "print(flatten)"
      ],
      "metadata": {
        "colab": {
          "base_uri": "https://localhost:8080/"
        },
        "id": "zDAvAfd2ScQW",
        "outputId": "a034e5a6-1039-42a1-fcae-e4bcab235eea"
      },
      "execution_count": null,
      "outputs": [
        {
          "output_type": "stream",
          "name": "stdout",
          "text": [
            "[[1, 2, 3], [2, 4, 6], [3, 6, 9]]\n",
            "[[1, 2, 3], [2, 4, 6], [3, 6, 9]]\n",
            "\n",
            "matrix 是 一個包含 3 個列表的列表\n",
            "不是 1×3 也不是 3×1，而是 3×3\n",
            "matrix 是 3 × 3 的矩陣\n",
            "\n",
            "[1, 2, 3, 2, 4, 6, 3, 6, 9]\n",
            "[1, 2, 3, 2, 4, 6, 3, 6, 9]\n"
          ]
        }
      ]
    },
    {
      "cell_type": "markdown",
      "source": [
        "# nccu onlinejudge評判機制注意事項\n",
        "* onlinejudge的split函數不能以逗號分隔\n",
        "* 若題目需要四捨五入到小數點後幾位，那麼建議先對輸入的變數做四捨五入再做後續運算或處理\n",
        "* onlinejudge的輸出要確認是否有空格，例如print()的comma seperated法(以逗號作為連接處理會有空格)和 string concatenation法(以加號作為連接處理會沒有空格)和 string formating和 f string法"
      ],
      "metadata": {
        "id": "zjiq9uR1YOR6"
      }
    },
    {
      "cell_type": "markdown",
      "source": [
        "## 期中考重要單元\n",
        "* 容器操作(list,tuple,set,dictionary)\n",
        "* 容器切片、取值、複製、新增、修改\n",
        "* 列表推倒式\n",
        "* enumerate()\n",
        "* 迴圈的break,continue,pass\n",
        "* 函式、嵌套函式、閉包\n",
        "* lambda()\n",
        "* 迭代物件操作(map,filter,zip)\n",
        "* 遞迴\n"
      ],
      "metadata": {
        "id": "SU5wDtTjjZOk"
      }
    },
    {
      "cell_type": "markdown",
      "source": [
        "## 簡易加法1\n",
        "* ｉｎｐｕｔ：每組輸入共一行，內含有兩個整數 a, b，以空白隔開，a, b絕對值皆小於 106\n",
        "* ｏｕｔｐｕｔ：對於每組輸入，輸出該兩整數的和"
      ],
      "metadata": {
        "id": "25kKagBfdHKM"
      }
    },
    {
      "cell_type": "code",
      "execution_count": null,
      "metadata": {
        "colab": {
          "base_uri": "https://localhost:8080/"
        },
        "id": "9PvMEHIico7K",
        "outputId": "41d63fbe-ba5e-4e41-baa5-fc152f5830fa"
      },
      "outputs": [
        {
          "output_type": "stream",
          "name": "stdout",
          "text": [
            "1 5\n",
            "6\n"
          ]
        }
      ],
      "source": [
        "a,b=input().split()\n",
        "a=int(a)\n",
        "b=int(b)\n",
        "print(a+b)"
      ]
    },
    {
      "cell_type": "code",
      "source": [
        "# map(function, iterable)，map主要用來對可迭代物件中的每個元素套用指定函數\n",
        "# map(int, [\"3\", \"5\"])等價於[int(\"3\"), int(\"5\")]\n",
        "a, b = map(int, input().split())\n",
        "print(a + b)"
      ],
      "metadata": {
        "id": "7EkU3rKoc4wv",
        "colab": {
          "base_uri": "https://localhost:8080/"
        },
        "outputId": "c74fb118-bc0d-4d19-93fb-4f8008725093"
      },
      "execution_count": 1,
      "outputs": [
        {
          "output_type": "stream",
          "name": "stdout",
          "text": [
            "3 5\n",
            "8\n"
          ]
        }
      ]
    },
    {
      "cell_type": "code",
      "source": [
        "numbers = [\"1\", \"2\", \"3\", \"4\"]  # 字串列表\n",
        "int_numbers = list(map(int, numbers))  # 將每個元素轉為整數\n",
        "print(int_numbers)"
      ],
      "metadata": {
        "colab": {
          "base_uri": "https://localhost:8080/"
        },
        "id": "2lU6RpJydAr_",
        "outputId": "a75eb362-6bd2-469a-e2ae-7d56c6f92f1e"
      },
      "execution_count": null,
      "outputs": [
        {
          "output_type": "stream",
          "name": "stdout",
          "text": [
            "[1, 2, 3, 4]\n"
          ]
        }
      ]
    },
    {
      "cell_type": "markdown",
      "source": [
        "## 兩光法師占卜術２\n",
        "＊　M = 月，D = 日，S = (M*2+D)%3\n",
        "\n",
        "＊　得到 S 的值，再依照 S 的值從 0 到 2 分別給與 普通、吉、大吉 等三種不同的運勢\n",
        "\n",
        "＊　ｉｎｐｕｔ：輸入資料共一行，包含兩個整數，分別為月份M及日期D\n",
        "\n",
        "＊　ｏｕｔｐｕｔ：根據S輸出所對應的運勢"
      ],
      "metadata": {
        "id": "gD70lGUeeuVq"
      }
    },
    {
      "cell_type": "code",
      "source": [
        "M,D=map(int,input().split(\",\"))\n",
        "S = (M*2+D)%3\n",
        "if S ==0:\n",
        "    print(\"普通\")\n",
        "elif S ==1:\n",
        "    print(\"吉\")\n",
        "elif S ==2:\n",
        "    print(\"大吉\")"
      ],
      "metadata": {
        "colab": {
          "base_uri": "https://localhost:8080/"
        },
        "id": "8xnJR_iwgSja",
        "outputId": "001c4d61-5306-47e5-a83a-f72a4c58dcd1"
      },
      "execution_count": null,
      "outputs": [
        {
          "output_type": "stream",
          "name": "stdout",
          "text": [
            "01,15\n",
            "大吉\n"
          ]
        }
      ]
    },
    {
      "cell_type": "code",
      "source": [
        "#nccu onlinejudge的split函數不能以逗號分隔\n",
        "M,D=map(int,input().split())\n",
        "S = (M*2+D)%3\n",
        "if S ==0:\n",
        "    print(\"普通\")\n",
        "elif S ==1:\n",
        "    print(\"吉\")\n",
        "else : #用elif還需要再做一次比較運算，所以用else比較好\n",
        "    print(\"大吉\")"
      ],
      "metadata": {
        "colab": {
          "base_uri": "https://localhost:8080/"
        },
        "id": "-EPgGGY9lwX4",
        "outputId": "e48d822e-7752-4010-cb73-cca9d6b3011e"
      },
      "execution_count": null,
      "outputs": [
        {
          "output_type": "stream",
          "name": "stdout",
          "text": [
            "01 07\n",
            "普通\n"
          ]
        }
      ]
    },
    {
      "cell_type": "markdown",
      "source": [
        "## HW1"
      ],
      "metadata": {
        "id": "XPkk1ivF65eX"
      }
    },
    {
      "cell_type": "code",
      "source": [
        "# 取到小數點一位\n",
        "#方法一\n",
        "area = round(area, 1)\n",
        "print(area)\n",
        "#方法二\n",
        "print(f\"{area:.1f}\")\n",
        "#方法三\n",
        "print(\"{:.1f}\".format(area))"
      ],
      "metadata": {
        "id": "eg7iscjSPOO4"
      },
      "execution_count": null,
      "outputs": []
    },
    {
      "cell_type": "code",
      "source": [
        "# 若題目需要四捨五入到小數點後幾位，那麼建議先對輸入的變數做四捨五入再做後續運算或處理\n",
        "# onlinejudge的輸出要確認是否有空格，例如print()的comma seperated法(以逗號作為連接處理會有空格)和 string concatenation法(以加號作為連接處理會沒有空格)\n",
        "# 和 string formating和 f string法\n",
        "a=float(input())  #建議先在這裡四捨五入\n",
        "b=float(input())\n",
        "c=float(input())\n",
        "perimeter = a+b+c\n",
        "perimeter = round(perimeter,1)\n",
        "s = (a+b+c)/2\n",
        "# area = (s(s-a)(s-b)(s-c))**(1/2)是錯誤的， 會出現TypeError: 'float' object is not callable\n",
        "# 這表示 Python 嘗試將 一個 float（浮點數）當作函數來調用，以下給個範例\n",
        "# s = 3.14\n",
        "# print(s())  TypeError: 'float' object is not callable\n",
        "\n",
        "area = (s*(s-a)*(s-b)*(s-c))**(1/2)\n",
        "area = round(area,1)\n",
        "type1 = \"\"\n",
        "\n",
        "\n",
        "if a==b and a==c:\n",
        "    type1 = type1 + \"Equilateral Triangle\"\n",
        "elif a==b or a==c or b==c:\n",
        "    type1 = type1 + \"Isosceles Triangle\"\n",
        "else:\n",
        "    type1 = type1 + \"Scalene Triangle\"\n",
        "\n",
        "\n",
        "print(\"Perimeter: \"+ str(perimeter)) #冒號後面要記得空格，因為我使用string concatenation法\n",
        "print(\"Area: \"+ str(area))\n",
        "print(\"Type: \"+ type1)"
      ],
      "metadata": {
        "colab": {
          "base_uri": "https://localhost:8080/"
        },
        "id": "01ztLmvu1woE",
        "outputId": "e66e66b0-b745-4428-98ee-a42c3615171b"
      },
      "execution_count": null,
      "outputs": [
        {
          "output_type": "stream",
          "name": "stdout",
          "text": [
            "1 \n",
            "4\n",
            "4\n",
            "Perimeter: 9.0\n",
            "Area: 2.0\n",
            "Type: Isosceles Triangle\n"
          ]
        }
      ]
    },
    {
      "cell_type": "code",
      "source": [
        "a = round(float(input()), 1)  # 先四捨五入\n",
        "b = round(float(input()), 1)\n",
        "c = round(float(input()), 1)\n",
        "\n",
        "perimeter = a + b + c\n",
        "\n",
        "s = (a + b + c) / 2\n",
        "\n",
        "# 使用海龍公式計算面積\n",
        "area = (s * (s - a) * (s - b) * (s - c)) ** 0.5\n",
        "area = round(area, 1)\n",
        "\n",
        "type1 = \"\"\n",
        "\n",
        "# 判斷三角形類型\n",
        "if a == b == c:\n",
        "    type1 = \"Equilateral Triangle\"\n",
        "elif a == b or a == c or b == c:\n",
        "    type1 = \"Isosceles Triangle\"\n",
        "else:\n",
        "    type1 = \"Scalene Triangle\"\n",
        "\n",
        "# 使用 string concatenation（+ 連接）確保無多餘空格\n",
        "print(\"Perimeter: \" + str(perimeter))\n",
        "print(\"Area: \" + str(area))\n",
        "print(\"Type: \" + type1)\n"
      ],
      "metadata": {
        "colab": {
          "base_uri": "https://localhost:8080/"
        },
        "id": "jWDU4iBU2UzH",
        "outputId": "85d260a5-dfb9-44b8-e254-86c77ffee092"
      },
      "execution_count": null,
      "outputs": [
        {
          "output_type": "stream",
          "name": "stdout",
          "text": [
            "1\n",
            "4\n",
            "4\n",
            "Perimeter: 9.0\n",
            "Area: 2.0\n",
            "Type: Isosceles Triangle\n"
          ]
        }
      ]
    },
    {
      "cell_type": "markdown",
      "source": [
        "## HW2"
      ],
      "metadata": {
        "id": "Isia63K-iJ_q"
      }
    },
    {
      "cell_type": "code",
      "source": [
        "def sieve(limit):\n",
        "    \"\"\" 使用埃拉托色尼篩法找到小於等於 limit 的所有質數 \"\"\"\n",
        "    is_prime = [True] * (limit + 1)\n",
        "    is_prime[0], is_prime[1] = False, False  # 0 和 1 不是質數\n",
        "\n",
        "    for num in range(2, int(limit**0.5) + 1):\n",
        "        if is_prime[num]:\n",
        "            for multiple in range(num * num, limit + 1, num):\n",
        "                is_prime[multiple] = False\n",
        "\n",
        "    primes = [i for i, prime in enumerate(is_prime) if prime]  # 取得所有質數\n",
        "    return primes\n",
        "\n",
        "def largest_prime_leq_x(x):\n",
        "    \"\"\" 找出小於等於 x 的最大質數 \"\"\"\n",
        "    primes = sieve(x)\n",
        "    return primes[-1]  # 取最後一個質數（最大質數）\n",
        "\n",
        "# 讀取輸入 (假設 x 為 1 到 999 之間的正數)\n",
        "x = int(input())  # 讀取使用者輸入\n",
        "max_prime = largest_prime_leq_x(x)\n",
        "\n",
        "# 符合指定輸出格式\n",
        "print(f\"Largest Prime Number: {max_prime}\")\n"
      ],
      "metadata": {
        "colab": {
          "base_uri": "https://localhost:8080/"
        },
        "id": "ADvexG45L3XQ",
        "outputId": "b55c6078-647d-4598-eb78-7374a18d286f"
      },
      "execution_count": null,
      "outputs": [
        {
          "output_type": "stream",
          "name": "stdout",
          "text": [
            "100\n",
            "Largest Prime Number: 97\n"
          ]
        }
      ]
    },
    {
      "cell_type": "code",
      "source": [
        "def is_prime(n):\n",
        "    \"\"\" 判斷 n 是否為質數 \"\"\"\n",
        "    if n < 2:\n",
        "        return False  # 1 不是質數\n",
        "    if n in (2, 3):\n",
        "        return True  # 2 和 3 是質數\n",
        "    if n % 2 == 0 or n % 3 == 0:\n",
        "        return False  # 排除所有 2 和 3 的倍數\n",
        "    i = 5\n",
        "    while i * i <= n:\n",
        "        if n % i == 0 or n % (i + 2) == 0:\n",
        "            return False  # 6k ± 1 規則\n",
        "        i += 6\n",
        "    return True\n",
        "\n",
        "x = int(input())  # 讀取使用者輸入（1 ≤ x ≤ 999）\n",
        "\n",
        "# 從 x 開始遞減搜尋最大質數\n",
        "while x > 1:\n",
        "    if is_prime(x):\n",
        "        print(f\"Largest Prime Number: {x}\")  # 輸出格式正確\n",
        "        break\n",
        "    x -= 1\n"
      ],
      "metadata": {
        "colab": {
          "base_uri": "https://localhost:8080/"
        },
        "id": "j1hlEaL9MBtV",
        "outputId": "ba2d52c1-532b-4a07-ea69-8fba0d9effe2"
      },
      "execution_count": null,
      "outputs": [
        {
          "output_type": "stream",
          "name": "stdout",
          "text": [
            "100\n",
            "Largest Prime Number: 97\n"
          ]
        }
      ]
    },
    {
      "cell_type": "code",
      "source": [
        "def outer():\n",
        "    x = 10  # 外層函數變數\n",
        "\n",
        "    def inner():\n",
        "        nonlocal x  # 聲明 x 來自外層函數\n",
        "        x = 20  # 修改外層函數的變數\n",
        "\n",
        "    inner()\n",
        "    print(x)  # 20\n",
        "\n",
        "outer()\n"
      ],
      "metadata": {
        "colab": {
          "base_uri": "https://localhost:8080/"
        },
        "id": "GW08JrJKkPn5",
        "outputId": "15f41ada-1e44-4fc7-a778-90242e4d4841"
      },
      "execution_count": null,
      "outputs": [
        {
          "output_type": "stream",
          "name": "stdout",
          "text": [
            "20\n"
          ]
        }
      ]
    },
    {
      "cell_type": "markdown",
      "source": [
        "## HW3\n",
        "* 我問:我不明白為何函式內部的條件判斷和迴圈要用回傳True,False，而不是回傳\"1 is not a prime number.\" 或是\"Largest Prime Number: {max_prime}\"\n",
        "* chat gpt答:1.可重複使用is_prime(n) 可以在不同的地方使用，而不只是用來找最大質數\n",
        "* 2.分離邏輯（Separation of Concerns），is_prime(n) 只負責檢查質數，不負責輸出結果，這樣程式的結構會更清楚。\n",
        "真正負責輸出的函數應該是 find_largest_prime(x)，它會使用 is_prime(n) 來判斷質數，並決定輸出格式。"
      ],
      "metadata": {
        "id": "8L8kEWGhcq23"
      }
    },
    {
      "cell_type": "code",
      "source": [
        "n = int(input())\n",
        "root_n = n**(1/2)\n",
        "def is_prime(n):\n",
        "    if n == 1:\n",
        "        print(str(n) + \" is not a prime number.\")\n"
      ],
      "metadata": {
        "colab": {
          "base_uri": "https://localhost:8080/"
        },
        "id": "zPeNINQEctN3",
        "outputId": "381dd3d0-5a8f-4035-8193-dc4374aeb755"
      },
      "execution_count": null,
      "outputs": [
        {
          "name": "stdout",
          "output_type": "stream",
          "text": [
            "2\n"
          ]
        }
      ]
    },
    {
      "cell_type": "code",
      "source": [
        "# 錯誤示範，注意變數應該要放在函數裡面還是外面\n",
        "def is_prime(n):\n",
        "    if n % 2 == 0 :\n",
        "        if n == 2:\n",
        "            return True\n",
        "        else:\n",
        "            return False\n",
        "    if n % 2 ==1 :\n",
        "        if n == 1:\n",
        "            print(str(n) + \" is not a prime number.\")\n",
        "            return False\n",
        "        if n == 3:\n",
        "            return True\n",
        "\n",
        "        for i in range(3,root_n+1,2):\n",
        "            if n % i == 0 :\n",
        "                return False\n",
        "\n",
        "\n",
        "# root_n 是在函數外部定義的。\n",
        "# 在 Python 中，函數內部無法直接使用函數外部的變數，除非你特別宣告它是全域變數（使用 global），\n",
        "# 但這樣做通常不是好的做法，因為函數應該是自包含的（self-contained），避免依賴全域變數。\n",
        "# 你的 is_prime(n) 函數應該能接受任何 n，不管 n 是多少，都應該在函數內計算 root_n，這樣函數才具有獨立性。\n",
        "\n",
        "n = int(input())\n",
        "root_n = int(n**(1/2))"
      ],
      "metadata": {
        "colab": {
          "base_uri": "https://localhost:8080/"
        },
        "id": "-4WnTLB2oZud",
        "outputId": "b65b5ebf-fae0-486f-dc0d-a52885395652"
      },
      "execution_count": null,
      "outputs": [
        {
          "name": "stdout",
          "output_type": "stream",
          "text": [
            "20\n"
          ]
        }
      ]
    },
    {
      "cell_type": "code",
      "source": [
        "# 錯誤寫法\n",
        "def is_prime(n):\n",
        "    root_n = int(n**(1/2))\n",
        "    if n % 2 == 0 :\n",
        "        if n == 2:\n",
        "            return True\n",
        "        else:\n",
        "            return False\n",
        "    if n % 2 ==1 :\n",
        "        if n == 1:\n",
        "            print(str(n) + \" is not a prime number.\")\n",
        "            return False\n",
        "        if n == 3:\n",
        "            return True\n",
        "\n",
        "        for i in range(3,root_n+1,2):\n",
        "            if n % i == 0 :\n",
        "                return False\n",
        "            else:\n",
        "                return True\n",
        "\n",
        "# 以上這段程式碼的for迴圈不一定會完整跑完，因為 return 不論回傳False或True都會直接結束函數的執行。\n",
        "# 在 for 迴圈的第一輪，當 i = 3 時，if 條件判斷 n % i == 0，如果成立，就會執行 return False，直接結束函數。\n",
        "# 如果條件不成立，則執行 return True，同樣直接結束函數，導致 for 迴圈只跑了一次就結束了，無論 n 是多少。\n",
        "# 如果你的目標是檢查 n 是否能被任何 i 整除，你應該把 return True 放在 for 迴圈結束後，這樣才會遍歷所有可能的 i 值。\n",
        "\n",
        "n = int(input())"
      ],
      "metadata": {
        "colab": {
          "base_uri": "https://localhost:8080/"
        },
        "id": "yhZzgkA4CxNu",
        "outputId": "c209e7bf-5fbf-4a81-fadc-1878dd5c3087"
      },
      "execution_count": null,
      "outputs": [
        {
          "name": "stdout",
          "output_type": "stream",
          "text": [
            "20\n"
          ]
        }
      ]
    },
    {
      "cell_type": "code",
      "source": [
        "# 錯誤寫法\n",
        "def is_prime(n):\n",
        "    root_n = int(n**(1/2))\n",
        "    if n % 2 == 0 :\n",
        "        if n == 2:\n",
        "            return True\n",
        "        else:\n",
        "            return False\n",
        "    if n % 2 ==1 :\n",
        "        if n == 1:\n",
        "            print(str(n) + \" is not a prime number.\")\n",
        "            return False\n",
        "        if n == 3:\n",
        "            return True\n",
        "\n",
        "        for i in range(3,root_n+1,2):\n",
        "            if n % i == 0 :\n",
        "                return False\n",
        "            return True\n",
        "\n",
        "# 以上 return True 被放在 for 迴圈內部，導致函數不會完整檢查所有可能的因數\n",
        "# 如果 n 不能被第一個 i 整除，函數就直接 return True，不會繼續檢查其他 i，這導致某些非質數可能錯誤地被判定為質數。\n",
        "\n",
        "n = int(input())"
      ],
      "metadata": {
        "id": "WnGN52m3FQoX"
      },
      "execution_count": null,
      "outputs": []
    },
    {
      "cell_type": "code",
      "source": [
        "# chat gpt答案\n",
        "# root_n 應該在判斷 n == 1 和 n == 2 之後計算，免除不必要的計算\n",
        "# 奇偶判斷沒必要，按照順序更直觀\n",
        "\n",
        "# is_prime(n) 只負責檢查質數，不負責輸出格式\n",
        "# find_largest_prime(x) 負責輸出結果\n",
        "# 符合軟體工程的「單一職責原則（Single Responsibility Principle, SRP）」\n",
        "# return有個功效:找到結果後立即結束\n",
        "\n",
        "\n",
        "def is_prime(n):\n",
        "    \"\"\"判斷 n 是否為質數\"\"\"\n",
        "    if n == 1:\n",
        "        return False  # 1 不是質數\n",
        "\n",
        "    if n == 2:\n",
        "        return True  # 2 是質數\n",
        "\n",
        "    if n % 2 == 0:\n",
        "        return False  # 除了 2 以外的偶數都不是質數\n",
        "\n",
        "    root_n = int(n**0.5)  # 只需要檢查到 sqrt(n)\n",
        "\n",
        "    for i in range(3, root_n + 1, 2):  # 只檢查奇數\n",
        "        if n % i == 0:\n",
        "            return False  # 如果找到因數，則不是質數\n",
        "\n",
        "    return True  # 迴圈跑完後，確定是質數才回傳 True\n",
        "\n",
        "\n",
        "def find_largest_prime(x):\n",
        "    \"\"\"尋找小於等於 x 的最大質數\"\"\"\n",
        "    if x == 1:\n",
        "        print(\"1 is not a prime number.\")\n",
        "        return  # 直接結束函數，避免執行迴圈，反正 x = 1是最後一項，不一定要寫\n",
        "\n",
        "    for max_prime in range(x, 1, -1):\n",
        "        if is_prime(max_prime):\n",
        "            print(f\"Largest Prime Number: {max_prime}\")\n",
        "            return  # 找到最大質數後立即結束函數\n",
        "\n",
        "\n",
        "# 測試輸入\n",
        "n = int(input())\n",
        "find_largest_prime(n)\n"
      ],
      "metadata": {
        "id": "Xa9HkuEQHrF3"
      },
      "execution_count": null,
      "outputs": []
    },
    {
      "cell_type": "code",
      "source": [
        "# 上交答案\n",
        "def is_prime(n):\n",
        "    root_n = int(n**(1/2))\n",
        "    if n % 2 == 0 :\n",
        "        if n == 2:\n",
        "            return True\n",
        "        else:\n",
        "            return False\n",
        "    if n % 2 == 1 :\n",
        "        if n == 1:\n",
        "            return False\n",
        "        if n == 3:\n",
        "            return True\n",
        "\n",
        "        for i in range(3,root_n+1,2):\n",
        "            if n % i == 0 :\n",
        "                return False\n",
        "        return True\n",
        "\n",
        "\n",
        "def find_largest_prime(x):\n",
        "    if x == 1:\n",
        "        print(\"1 is not a prime number.\")\n",
        "        return\n",
        "    for max_prime in range(x,1,-1):\n",
        "        if is_prime(max_prime):\n",
        "            print(f\"Largest Prime Number: {max_prime}\")\n",
        "            return\n",
        "\n",
        "n = int(input())\n",
        "find_largest_prime(n)"
      ],
      "metadata": {
        "colab": {
          "base_uri": "https://localhost:8080/"
        },
        "id": "cggM4C41G4kx",
        "outputId": "0e7d2d02-fe1c-4fe3-8904-9f4bd85048b4"
      },
      "execution_count": null,
      "outputs": [
        {
          "output_type": "stream",
          "name": "stdout",
          "text": [
            "8\n",
            "Largest Prime Number: 7\n"
          ]
        }
      ]
    },
    {
      "cell_type": "markdown",
      "source": [
        "## ex4"
      ],
      "metadata": {
        "id": "LxOyukk7gGeo"
      }
    },
    {
      "cell_type": "code",
      "source": [
        "list0 = [\"apple\",\"welcome\",\"banana\",\"cat\",\"archive\",\"once\",\"australia\",\"co\",\"abc\"]\n",
        "list1 = input().strip().split()\n",
        "list2 = sorted(list1)\n",
        "print(list2)\n",
        "query_words = []\n",
        "\n",
        "\n",
        "dict1 ={}\n",
        "for word in list2:\n",
        "    first_aphabet = word[0]\n",
        "    if first_aphabet in dict1:\n",
        "        dict1[first_aphabet] += 1\n",
        "    else:\n",
        "        dict1[first_aphabet] = 1\n",
        "\n",
        "print(dict1)"
      ],
      "metadata": {
        "colab": {
          "base_uri": "https://localhost:8080/"
        },
        "id": "UpNn8gDCt98G",
        "outputId": "5c158c4a-1297-4887-f3cd-e0ed667fdcb0"
      },
      "execution_count": 9,
      "outputs": [
        {
          "output_type": "stream",
          "name": "stdout",
          "text": [
            "x x c v\n",
            "['c', 'v', 'x', 'x']\n",
            "{'c': 1, 'v': 1, 'x': 2}\n"
          ]
        }
      ]
    },
    {
      "cell_type": "code",
      "source": [
        "list1 = input().strip().split()\n",
        "list2 = sorted(list1)\n",
        "print(list2) #測試用，輸出時記得移除\n",
        "\n",
        "query_words1 = []\n",
        "dict1 ={}\n",
        "\n",
        "while True:\n",
        "    word = input().split() #第九行賄把輸入的一個單字變成list，而第十行會比較list和字串，所以迴圈永遠不會結束\n",
        "    if word == \"#\":\n",
        "        break\n",
        "    query_words1.append(word)\n",
        "\n",
        "print(query_words1) #測試用，輸出時記得移除"
      ],
      "metadata": {
        "colab": {
          "base_uri": "https://localhost:8080/",
          "height": 478
        },
        "id": "Qnej_X8bpoUg",
        "outputId": "5d776626-433d-4e8b-be74-1c90d1eebbf4"
      },
      "execution_count": 14,
      "outputs": [
        {
          "name": "stdout",
          "output_type": "stream",
          "text": [
            "4 2 7 5 x x v c a\n",
            "['2', '4', '5', '7', 'a', 'c', 'v', 'x', 'x']\n",
            "x\n",
            "c\n",
            "#\n",
            "#\n"
          ]
        },
        {
          "output_type": "error",
          "ename": "KeyboardInterrupt",
          "evalue": "Interrupted by user",
          "traceback": [
            "\u001b[0;31m---------------------------------------------------------------------------\u001b[0m",
            "\u001b[0;31mKeyboardInterrupt\u001b[0m                         Traceback (most recent call last)",
            "\u001b[0;32m<ipython-input-14-2cae26841a94>\u001b[0m in \u001b[0;36m<cell line: 0>\u001b[0;34m()\u001b[0m\n\u001b[1;32m      7\u001b[0m \u001b[0;34m\u001b[0m\u001b[0m\n\u001b[1;32m      8\u001b[0m \u001b[0;32mwhile\u001b[0m \u001b[0;32mTrue\u001b[0m\u001b[0;34m:\u001b[0m\u001b[0;34m\u001b[0m\u001b[0;34m\u001b[0m\u001b[0m\n\u001b[0;32m----> 9\u001b[0;31m     \u001b[0mword\u001b[0m \u001b[0;34m=\u001b[0m \u001b[0minput\u001b[0m\u001b[0;34m(\u001b[0m\u001b[0;34m)\u001b[0m\u001b[0;34m.\u001b[0m\u001b[0msplit\u001b[0m\u001b[0;34m(\u001b[0m\u001b[0;34m)\u001b[0m\u001b[0;34m\u001b[0m\u001b[0;34m\u001b[0m\u001b[0m\n\u001b[0m\u001b[1;32m     10\u001b[0m     \u001b[0;32mif\u001b[0m \u001b[0mword\u001b[0m \u001b[0;34m==\u001b[0m \u001b[0;34m\"#\"\u001b[0m\u001b[0;34m:\u001b[0m\u001b[0;34m\u001b[0m\u001b[0;34m\u001b[0m\u001b[0m\n\u001b[1;32m     11\u001b[0m         \u001b[0;32mbreak\u001b[0m\u001b[0;34m\u001b[0m\u001b[0;34m\u001b[0m\u001b[0m\n",
            "\u001b[0;32m/usr/local/lib/python3.11/dist-packages/ipykernel/kernelbase.py\u001b[0m in \u001b[0;36mraw_input\u001b[0;34m(self, prompt)\u001b[0m\n\u001b[1;32m   1175\u001b[0m                 \u001b[0;34m\"raw_input was called, but this frontend does not support input requests.\"\u001b[0m\u001b[0;34m\u001b[0m\u001b[0;34m\u001b[0m\u001b[0m\n\u001b[1;32m   1176\u001b[0m             )\n\u001b[0;32m-> 1177\u001b[0;31m         return self._input_request(\n\u001b[0m\u001b[1;32m   1178\u001b[0m             \u001b[0mstr\u001b[0m\u001b[0;34m(\u001b[0m\u001b[0mprompt\u001b[0m\u001b[0;34m)\u001b[0m\u001b[0;34m,\u001b[0m\u001b[0;34m\u001b[0m\u001b[0;34m\u001b[0m\u001b[0m\n\u001b[1;32m   1179\u001b[0m             \u001b[0mself\u001b[0m\u001b[0;34m.\u001b[0m\u001b[0m_parent_ident\u001b[0m\u001b[0;34m[\u001b[0m\u001b[0;34m\"shell\"\u001b[0m\u001b[0;34m]\u001b[0m\u001b[0;34m,\u001b[0m\u001b[0;34m\u001b[0m\u001b[0;34m\u001b[0m\u001b[0m\n",
            "\u001b[0;32m/usr/local/lib/python3.11/dist-packages/ipykernel/kernelbase.py\u001b[0m in \u001b[0;36m_input_request\u001b[0;34m(self, prompt, ident, parent, password)\u001b[0m\n\u001b[1;32m   1217\u001b[0m             \u001b[0;32mexcept\u001b[0m \u001b[0mKeyboardInterrupt\u001b[0m\u001b[0;34m:\u001b[0m\u001b[0;34m\u001b[0m\u001b[0;34m\u001b[0m\u001b[0m\n\u001b[1;32m   1218\u001b[0m                 \u001b[0;31m# re-raise KeyboardInterrupt, to truncate traceback\u001b[0m\u001b[0;34m\u001b[0m\u001b[0;34m\u001b[0m\u001b[0m\n\u001b[0;32m-> 1219\u001b[0;31m                 \u001b[0;32mraise\u001b[0m \u001b[0mKeyboardInterrupt\u001b[0m\u001b[0;34m(\u001b[0m\u001b[0;34m\"Interrupted by user\"\u001b[0m\u001b[0;34m)\u001b[0m \u001b[0;32mfrom\u001b[0m \u001b[0;32mNone\u001b[0m\u001b[0;34m\u001b[0m\u001b[0;34m\u001b[0m\u001b[0m\n\u001b[0m\u001b[1;32m   1220\u001b[0m             \u001b[0;32mexcept\u001b[0m \u001b[0mException\u001b[0m\u001b[0;34m:\u001b[0m\u001b[0;34m\u001b[0m\u001b[0;34m\u001b[0m\u001b[0m\n\u001b[1;32m   1221\u001b[0m                 \u001b[0mself\u001b[0m\u001b[0;34m.\u001b[0m\u001b[0mlog\u001b[0m\u001b[0;34m.\u001b[0m\u001b[0mwarning\u001b[0m\u001b[0;34m(\u001b[0m\u001b[0;34m\"Invalid Message:\"\u001b[0m\u001b[0;34m,\u001b[0m \u001b[0mexc_info\u001b[0m\u001b[0;34m=\u001b[0m\u001b[0;32mTrue\u001b[0m\u001b[0;34m)\u001b[0m\u001b[0;34m\u001b[0m\u001b[0;34m\u001b[0m\u001b[0m\n",
            "\u001b[0;31mKeyboardInterrupt\u001b[0m: Interrupted by user"
          ]
        }
      ]
    },
    {
      "cell_type": "code",
      "source": [
        "list1 = input().strip().split()\n",
        "list2 = sorted(list1)\n",
        "print(list2) #測試用，輸出時記得移除\n",
        "\n",
        "query_words_list = []\n",
        "\n",
        "while True:\n",
        "    word = input().strip()\n",
        "    if word == \"#\":\n",
        "        break\n",
        "    query_words_list.append(word)\n",
        "\n",
        "print(query_words_list) #測試用，輸出時記得移除\n",
        "\n",
        "aphabet_dict1 ={}\n",
        "for word in list2:\n",
        "    first_aphabet = word[0]\n",
        "    if first_aphabet not in aphabet_dict1:\n",
        "        aphabet_dict1[first_aphabet] = []\n",
        "    aphabet_dict1[first_aphabet].append(word)\n",
        "\n",
        "for query_word in query_words_list:\n",
        "    first_aphabet = query_word[0]\n",
        "    if first_aphabet in aphabet_dict1 and query_word in aphabet_dict1[first_aphabet]:\n",
        "        index = aphabet_dict1[first_aphabet].index(query_word)+1\n",
        "        print(first_aphabet.upper()+ index) # 字串加上整數會錯誤\n",
        "    else:\n",
        "        print(\"NOT FOUND\")"
      ],
      "metadata": {
        "colab": {
          "base_uri": "https://localhost:8080/",
          "height": 373
        },
        "id": "J4matyfWwl8p",
        "outputId": "acf0d3aa-f149-4cb7-ea85-6fd97aaa65e6"
      },
      "execution_count": 16,
      "outputs": [
        {
          "output_type": "error",
          "ename": "KeyboardInterrupt",
          "evalue": "Interrupted by user",
          "traceback": [
            "\u001b[0;31m---------------------------------------------------------------------------\u001b[0m",
            "\u001b[0;31mKeyboardInterrupt\u001b[0m                         Traceback (most recent call last)",
            "\u001b[0;32m<ipython-input-16-810340cb68f6>\u001b[0m in \u001b[0;36m<cell line: 0>\u001b[0;34m()\u001b[0m\n\u001b[0;32m----> 1\u001b[0;31m \u001b[0mlist1\u001b[0m \u001b[0;34m=\u001b[0m \u001b[0minput\u001b[0m\u001b[0;34m(\u001b[0m\u001b[0;34m)\u001b[0m\u001b[0;34m.\u001b[0m\u001b[0mstrip\u001b[0m\u001b[0;34m(\u001b[0m\u001b[0;34m)\u001b[0m\u001b[0;34m.\u001b[0m\u001b[0msplit\u001b[0m\u001b[0;34m(\u001b[0m\u001b[0;34m)\u001b[0m\u001b[0;34m\u001b[0m\u001b[0;34m\u001b[0m\u001b[0m\n\u001b[0m\u001b[1;32m      2\u001b[0m \u001b[0mlist2\u001b[0m \u001b[0;34m=\u001b[0m \u001b[0msorted\u001b[0m\u001b[0;34m(\u001b[0m\u001b[0mlist1\u001b[0m\u001b[0;34m)\u001b[0m\u001b[0;34m\u001b[0m\u001b[0;34m\u001b[0m\u001b[0m\n\u001b[1;32m      3\u001b[0m \u001b[0mprint\u001b[0m\u001b[0;34m(\u001b[0m\u001b[0mlist2\u001b[0m\u001b[0;34m)\u001b[0m \u001b[0;31m#測試\u001b[0m\u001b[0;34m\u001b[0m\u001b[0;34m\u001b[0m\u001b[0m\n\u001b[1;32m      4\u001b[0m \u001b[0;34m\u001b[0m\u001b[0m\n\u001b[1;32m      5\u001b[0m \u001b[0mquery_words1\u001b[0m \u001b[0;34m=\u001b[0m \u001b[0;34m[\u001b[0m\u001b[0;34m]\u001b[0m\u001b[0;34m\u001b[0m\u001b[0;34m\u001b[0m\u001b[0m\n",
            "\u001b[0;32m/usr/local/lib/python3.11/dist-packages/ipykernel/kernelbase.py\u001b[0m in \u001b[0;36mraw_input\u001b[0;34m(self, prompt)\u001b[0m\n\u001b[1;32m   1175\u001b[0m                 \u001b[0;34m\"raw_input was called, but this frontend does not support input requests.\"\u001b[0m\u001b[0;34m\u001b[0m\u001b[0;34m\u001b[0m\u001b[0m\n\u001b[1;32m   1176\u001b[0m             )\n\u001b[0;32m-> 1177\u001b[0;31m         return self._input_request(\n\u001b[0m\u001b[1;32m   1178\u001b[0m             \u001b[0mstr\u001b[0m\u001b[0;34m(\u001b[0m\u001b[0mprompt\u001b[0m\u001b[0;34m)\u001b[0m\u001b[0;34m,\u001b[0m\u001b[0;34m\u001b[0m\u001b[0;34m\u001b[0m\u001b[0m\n\u001b[1;32m   1179\u001b[0m             \u001b[0mself\u001b[0m\u001b[0;34m.\u001b[0m\u001b[0m_parent_ident\u001b[0m\u001b[0;34m[\u001b[0m\u001b[0;34m\"shell\"\u001b[0m\u001b[0;34m]\u001b[0m\u001b[0;34m,\u001b[0m\u001b[0;34m\u001b[0m\u001b[0;34m\u001b[0m\u001b[0m\n",
            "\u001b[0;32m/usr/local/lib/python3.11/dist-packages/ipykernel/kernelbase.py\u001b[0m in \u001b[0;36m_input_request\u001b[0;34m(self, prompt, ident, parent, password)\u001b[0m\n\u001b[1;32m   1217\u001b[0m             \u001b[0;32mexcept\u001b[0m \u001b[0mKeyboardInterrupt\u001b[0m\u001b[0;34m:\u001b[0m\u001b[0;34m\u001b[0m\u001b[0;34m\u001b[0m\u001b[0m\n\u001b[1;32m   1218\u001b[0m                 \u001b[0;31m# re-raise KeyboardInterrupt, to truncate traceback\u001b[0m\u001b[0;34m\u001b[0m\u001b[0;34m\u001b[0m\u001b[0m\n\u001b[0;32m-> 1219\u001b[0;31m                 \u001b[0;32mraise\u001b[0m \u001b[0mKeyboardInterrupt\u001b[0m\u001b[0;34m(\u001b[0m\u001b[0;34m\"Interrupted by user\"\u001b[0m\u001b[0;34m)\u001b[0m \u001b[0;32mfrom\u001b[0m \u001b[0;32mNone\u001b[0m\u001b[0;34m\u001b[0m\u001b[0;34m\u001b[0m\u001b[0m\n\u001b[0m\u001b[1;32m   1220\u001b[0m             \u001b[0;32mexcept\u001b[0m \u001b[0mException\u001b[0m\u001b[0;34m:\u001b[0m\u001b[0;34m\u001b[0m\u001b[0;34m\u001b[0m\u001b[0m\n\u001b[1;32m   1221\u001b[0m                 \u001b[0mself\u001b[0m\u001b[0;34m.\u001b[0m\u001b[0mlog\u001b[0m\u001b[0;34m.\u001b[0m\u001b[0mwarning\u001b[0m\u001b[0;34m(\u001b[0m\u001b[0;34m\"Invalid Message:\"\u001b[0m\u001b[0;34m,\u001b[0m \u001b[0mexc_info\u001b[0m\u001b[0;34m=\u001b[0m\u001b[0;32mTrue\u001b[0m\u001b[0;34m)\u001b[0m\u001b[0;34m\u001b[0m\u001b[0;34m\u001b[0m\u001b[0m\n",
            "\u001b[0;31mKeyboardInterrupt\u001b[0m: Interrupted by user"
          ]
        }
      ]
    },
    {
      "cell_type": "code",
      "source": [
        "# 把list當作英文單字字典，把輸入送到list然後排序\n",
        "list1 = input().strip().split(\",\")\n",
        "list2 = sorted(list1)\n",
        "\n",
        "\n",
        "# 輸入要查詢的單字送到list\n",
        "query_words_list = []\n",
        "while True:\n",
        "    word = input().strip()\n",
        "    if word == \"#\":\n",
        "        break\n",
        "    query_words_list.append(word)\n",
        "\n",
        "\n",
        "\n",
        "# 把list2的單字放到字典\n",
        "aphabet_dict1 ={}\n",
        "for word in list2:\n",
        "    first_aphabet = word[0].upper()\n",
        "    if first_aphabet not in aphabet_dict1:\n",
        "        aphabet_dict1[first_aphabet] = []\n",
        "    aphabet_dict1[first_aphabet].append(word)\n",
        "\n",
        "# 查詢並輸出\n",
        "for query_word in query_words_list:\n",
        "    first_aphabet = query_word[0].upper()\n",
        "    if first_aphabet in aphabet_dict1 and query_word in aphabet_dict1[first_aphabet]:\n",
        "        index = aphabet_dict1[first_aphabet].index(query_word)+1\n",
        "        print(first_aphabet, index)\n",
        "    else:\n",
        "        print(\"NOT FOUND\")"
      ],
      "metadata": {
        "colab": {
          "base_uri": "https://localhost:8080/"
        },
        "id": "DZ9emXCx9uoc",
        "outputId": "f6c1dc6f-9ea0-49f8-ec7d-527cfc676a94"
      },
      "execution_count": 20,
      "outputs": [
        {
          "output_type": "stream",
          "name": "stdout",
          "text": [
            "abc,acd,and,amy,bbb,bcd,lad\n",
            "amy\n",
            "#\n",
            "A 3\n"
          ]
        }
      ]
    },
    {
      "cell_type": "markdown",
      "source": [
        "## HW4"
      ],
      "metadata": {
        "id": "8bzbtL_zC-bl"
      }
    },
    {
      "cell_type": "code",
      "source": [
        "def discount(price, code):\n",
        "    if code == \"DISC10\":\n",
        "        return price * 0.9\n",
        "    elif code == \"DISC20\":\n",
        "        return price * 0.8\n",
        "    else:\n",
        "        return price\n",
        "\n",
        "\n",
        "num_customers = int(input())\n",
        "for customers in range(num_customers):\n",
        "    name = input() # 姓名(就算是數字也是字串型態)\n",
        "    num_orders = int(input()) # 餐點數量\n",
        "    orders_describe = [] # 餐點詳情\n",
        "    total_cost = 0 # 總花費\n",
        "\n",
        "    for order in range(num_orders):\n",
        "        line = input().split(\";\")\n",
        "        food_name, quantity, unit_price,discount_code = line\n",
        "        food_name = str(food_name) # 不用這行，因為 input()是字串，split(\";\")是字串分割\n",
        "        quantity = int(quantity)\n",
        "        unit_price = float(unit_price)\n",
        "        discount_code = str(discount_code) # 不用這行，因為 input()是字串，split(\";\")是字串分割\n",
        "        subtotal = round(quantity * discount(unit_price,discount_code), 2)\n",
        "        total_cost += subtotal\n",
        "        orders_describe.append((food_name, quantity, unit_price, subtotal))\n",
        "\n",
        "    print(f\"Customer: {name}\")\n",
        "    print(f\"Number of Items: {num_orders}\")\n",
        "    print(f\"Order Details: {orders_describe}\")\n",
        "    #輸出Order Details: [('Sushi', 4, 50.0, 200.0), ('Green Tea', 2, 20.0, 36.0)]\n",
        "    print(f\"Total Cost: {total_cost}\")\n"
      ],
      "metadata": {
        "id": "RbQ8tdAVDAjS"
      },
      "execution_count": 21,
      "outputs": []
    },
    {
      "cell_type": "code",
      "source": [
        "def discount(price, code):\n",
        "    if code == \"DISC10\":\n",
        "        return price * 0.9\n",
        "    elif code == \"DISC20\":\n",
        "        return price * 0.8\n",
        "    else:\n",
        "        return price\n",
        "\n",
        "\n",
        "num_customers = int(input())\n",
        "for customers in range(num_customers):\n",
        "    name = input() # 姓名(就算是數字也是字串型態)\n",
        "    num_orders = int(input()) # 餐點數量\n",
        "    orders_describe = [] # 餐點詳情\n",
        "    total_cost = 0 # 總花費\n",
        "\n",
        "    for order in range(num_orders):\n",
        "        line = input().split(\";\")\n",
        "        food_name, quantity, unit_price,discount_code = line\n",
        "        food_name = str(food_name) # 不用這行，因為 input()是字串，split(\";\")是字串分割\n",
        "        quantity = int(quantity)\n",
        "        unit_price = float(unit_price)\n",
        "        discount_code = str(discount_code) # 不用這行，因為 input()是字串，split(\";\")是字串分割\n",
        "        subtotal = round(quantity * discount(unit_price,discount_code), 2)\n",
        "        total_cost += subtotal\n",
        "        orders_describe.append((food_name, quantity, unit_price, subtotal))\n",
        "\n",
        "    print(f\"Customer: {name}\")\n",
        "    print(f\"Number of Items: {num_orders}\")\n",
        "    print(\"Order Details:\")\n",
        "    for idx, (food, qty, price, sub) in enumerate(orders_describe, start=1):\n",
        "        print(f\"{idx}. {food} - Quantity: {qty}, Unit Price: {price:.2f} TWD, Subtotal: {sub:.2f} TWD\")\n",
        "    total_cost = round(total_cost, 2)\n",
        "    print(f\"Total Cost: {total_cost:.2f} TWD\")\n",
        "    if customers != num_customers - 1:\n",
        "        print()\n"
      ],
      "metadata": {
        "id": "Kq5GwgujQzCm"
      },
      "execution_count": null,
      "outputs": []
    }
  ]
}